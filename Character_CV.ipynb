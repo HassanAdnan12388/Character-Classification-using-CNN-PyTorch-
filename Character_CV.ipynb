{
  "cells": [
    {
      "cell_type": "code",
      "execution_count": 2,
      "metadata": {
        "id": "SD0hvk_Y25ND"
      },
      "outputs": [],
      "source": [
        "# Load libraries\n",
        "\n",
        "import torch\n",
        "import torch.nn as nn\n",
        "import torch.optim as optim\n",
        "import torchvision.transforms as transforms\n",
        "from torch.utils.data import DataLoader\n",
        "from torchvision.datasets import ImageFolder\n",
        "import torch.nn.functional as F\n"
      ]
    },
    {
      "cell_type": "code",
      "execution_count": 3,
      "metadata": {
        "id": "onUnUVNb5e_K"
      },
      "outputs": [
        {
          "name": "stdout",
          "output_type": "stream",
          "text": [
            "Using cpu for computation\n"
          ]
        }
      ],
      "source": [
        "# Set the device (use GPU if available)\n",
        "device = torch.device(\"cuda\" if torch.cuda.is_available() else \"cpu\")\n",
        "print(f\"Using {device} for computation\")\n",
        "\n",
        "# Define transformations for the dataset\n",
        "transform = transforms.Compose([\n",
        "    transforms.Grayscale(),               # Convert to grayscale\n",
        "    transforms.Resize((28, 28)),           # Resize to 28x28 (similar to MNIST)\n",
        "    transforms.ToTensor(),                 # Convert to tensor\n",
        "    transforms.Normalize((0.5,), (0.5,))   # Normalize to [-1, 1]\n",
        "])\n"
      ]
    },
    {
      "cell_type": "code",
      "execution_count": 4,
      "metadata": {
        "id": "eTne4AZI5g3e"
      },
      "outputs": [],
      "source": [
        "# Path to the dataset folders\n",
        "train_data_path = '/Users/hassanadnan/Desktop/PA2 2/CNN_lp_dataset/train'\n",
        "val_data_path = '/Users/hassanadnan/Desktop/PA2 2/CNN_lp_dataset/val'\n",
        "\n",
        "# Load training and validation datasets\n",
        "train_dataset = ImageFolder(root=train_data_path, transform=transform)\n",
        "val_dataset = ImageFolder(root=val_data_path, transform=transform)\n",
        "\n",
        "# Create DataLoaders for training and validation sets\n",
        "train_loader = DataLoader(dataset=train_dataset, batch_size=32, shuffle=True)\n",
        "val_loader = DataLoader(dataset=val_dataset, batch_size=32, shuffle=False)\n"
      ]
    },
    {
      "cell_type": "code",
      "execution_count": 5,
      "metadata": {
        "id": "Vr6xCjPE5Y_c"
      },
      "outputs": [
        {
          "name": "stdout",
          "output_type": "stream",
          "text": [
            "CNNNet(\n",
            "  (conv1): Conv2d(1, 32, kernel_size=(3, 3), stride=(1, 1), padding=(1, 1))\n",
            "  (conv2): Conv2d(32, 64, kernel_size=(3, 3), stride=(1, 1), padding=(1, 1))\n",
            "  (pool): MaxPool2d(kernel_size=2, stride=2, padding=0, dilation=1, ceil_mode=False)\n",
            "  (fc1): Linear(in_features=3136, out_features=128, bias=True)\n",
            "  (fc2): Linear(in_features=128, out_features=36, bias=True)\n",
            ")\n"
          ]
        }
      ],
      "source": [
        "\n",
        "# Define the CNN model\n",
        "class CNNNet(nn.Module):\n",
        "    def __init__(self):\n",
        "        super(CNNNet, self).__init__()\n",
        "        # Convolutional layers\n",
        "        self.conv1 = nn.Conv2d(in_channels=1, out_channels=32, kernel_size=3, padding=1)\n",
        "        self.conv2 = nn.Conv2d(in_channels=32, out_channels=64, kernel_size=3, padding=1)\n",
        "        self.pool = nn.MaxPool2d(kernel_size=2, stride=2)\n",
        "        \n",
        "        # Fully connected layers\n",
        "        self.fc1 = nn.Linear(64 * 7 * 7, 128)  # Flattened output size from conv layers\n",
        "        self.fc2 = nn.Linear(128, 36)          # 36 output classes for 0-9 and A-Z\n",
        "\n",
        "    def forward(self, x):\n",
        "        # Apply convolutional layers with ReLU and pooling\n",
        "        x = self.pool(F.relu(self.conv1(x)))\n",
        "        x = self.pool(F.relu(self.conv2(x)))\n",
        "        \n",
        "        # Flatten the output from the conv layers\n",
        "        x = x.view(-1, 64 * 7 * 7)\n",
        "        \n",
        "        # Fully connected layers with ReLU\n",
        "        x = F.relu(self.fc1(x))\n",
        "        x = self.fc2(x)\n",
        "        \n",
        "        # Output layer with log_softmax for classification\n",
        "        return F.log_softmax(x, dim=1)\n",
        "\n",
        "# Example model instance\n",
        "model = CNNNet().to(device)\n",
        "print(model)\n",
        "\n",
        "\n"
      ]
    },
    {
      "cell_type": "code",
      "execution_count": 6,
      "metadata": {
        "id": "cVfJt9Tl5mUw"
      },
      "outputs": [],
      "source": [
        "# Initialize the model, loss function, and optimizer\n",
        "# Initialize the model, move to the correct device\n",
        "model = CNNNet().to(device)\n",
        "\n",
        "# Define the loss function (CrossEntropyLoss)\n",
        "criterion = nn.CrossEntropyLoss()\n",
        "\n",
        "# Define the optimizer (Adam optimizer with learning rate of 0.001)\n",
        "optimizer = optim.Adam(model.parameters(), lr=0.001)\n"
      ]
    },
    {
      "cell_type": "code",
      "execution_count": 7,
      "metadata": {
        "id": "olKFIsAx5rfO"
      },
      "outputs": [],
      "source": [
        "# Define the training function\n",
        "def train(model, device, train_loader, optimizer, epoch):\n",
        "    model.train()  # Set the model to training mode\n",
        "    for batch_idx, (data, target) in enumerate(train_loader):\n",
        "\n",
        "        # Move data and target to the correct device (GPU/CPU)\n",
        "        data, target = data.to(device), target.to(device)\n",
        "\n",
        "        # Zero the gradients from the previous step\n",
        "        optimizer.zero_grad()\n",
        "\n",
        "        # Forward pass: Compute predicted output\n",
        "        output = model(data)\n",
        "\n",
        "        # Compute loss (Negative log-likelihood loss in this case)\n",
        "        loss = criterion(output, target)\n",
        "\n",
        "        # Backpropagation: Compute gradients\n",
        "        loss.backward()\n",
        "\n",
        "        # Update the weights using optimizer\n",
        "        optimizer.step()\n",
        "\n",
        "        # Print the training progress every 100 batches\n",
        "        if batch_idx % 100 == 0:\n",
        "            print(f'Train Epoch: {epoch} [{batch_idx * len(data)}/{len(train_loader.dataset)}'\n",
        "                  f' ({100. * batch_idx / len(train_loader):.0f}%)]\\tLoss: {loss.item():.6f}')\n"
      ]
    },
    {
      "cell_type": "code",
      "execution_count": 8,
      "metadata": {
        "id": "_03QnaM-5vqQ"
      },
      "outputs": [],
      "source": [
        "def test(model, device, test_loader):\n",
        "    model.eval()  # Set the model to evaluation mode\n",
        "    test_loss = 0  # Initialize test loss\n",
        "    correct = 0    # Initialize correct prediction count\n",
        "\n",
        "    with torch.no_grad():  # Disable gradient calculation during testing\n",
        "        for data, target in test_loader:\n",
        "\n",
        "            # Move data and target to the correct device (GPU/CPU)\n",
        "            data, target = data.to(device), target.to(device)\n",
        "\n",
        "            # Forward pass: compute output\n",
        "            output = model(data)\n",
        "\n",
        "            # Sum up batch loss\n",
        "            test_loss += criterion(output, target).item()  # Loss without backward pass\n",
        "\n",
        "            # Get the index of the max log-probability\n",
        "            pred = output.argmax(dim=1, keepdim=True)  # Get the predicted class\n",
        "            correct += pred.eq(target.view_as(pred)).sum().item()  # Check how many predictions are correct\n",
        "\n",
        "    # Average loss for the test set\n",
        "    test_loss /= len(test_loader.dataset)\n",
        "\n",
        "    print(f'\\nTest set: Average loss: {test_loss:.4f}, Accuracy: {correct}/{len(test_loader.dataset)}'\n",
        "          f' ({100. * correct / len(test_loader.dataset):.0f}%)\\n')\n"
      ]
    },
    {
      "cell_type": "code",
      "execution_count": 9,
      "metadata": {
        "colab": {
          "base_uri": "https://localhost:8080/"
        },
        "collapsed": true,
        "id": "GCCMrj2Y5x0e",
        "outputId": "1a61f9f8-39b3-43c9-b9bb-7a6da95f80a9"
      },
      "outputs": [
        {
          "name": "stdout",
          "output_type": "stream",
          "text": [
            "Train Epoch: 1 [0/1903 (0%)]\tLoss: 3.611984\n",
            "\n",
            "Test set: Average loss: 0.0069, Accuracy: 428/458 (93%)\n",
            "\n",
            "Train Epoch: 2 [0/1903 (0%)]\tLoss: 0.085005\n",
            "\n",
            "Test set: Average loss: 0.0038, Accuracy: 443/458 (97%)\n",
            "\n",
            "Train Epoch: 3 [0/1903 (0%)]\tLoss: 0.114049\n",
            "\n",
            "Test set: Average loss: 0.0021, Accuracy: 450/458 (98%)\n",
            "\n",
            "Train Epoch: 4 [0/1903 (0%)]\tLoss: 0.105902\n",
            "\n",
            "Test set: Average loss: 0.0017, Accuracy: 448/458 (98%)\n",
            "\n",
            "Train Epoch: 5 [0/1903 (0%)]\tLoss: 0.067429\n",
            "\n",
            "Test set: Average loss: 0.0020, Accuracy: 449/458 (98%)\n",
            "\n"
          ]
        }
      ],
      "source": [
        "n_epochs = 5  # Number of epochs for training\n",
        "\n",
        "for epoch in range(1, n_epochs + 1):\n",
        "    # Train the model for one epoch\n",
        "    train(model, device, train_loader, optimizer, epoch)\n",
        "\n",
        "    # Evaluate the model on the validation set\n",
        "    test(model, device, val_loader)  # Assuming val_loader is for validation data\n",
        "\n",
        "    # Optionally, you can save the model at each epoch\n",
        "    torch.save(model.state_dict(), f'model_epoch_{epoch}.pth')\n"
      ]
    },
    {
      "cell_type": "code",
      "execution_count": 10,
      "metadata": {
        "id": "oqUPHcQi62OE"
      },
      "outputs": [
        {
          "name": "stdout",
          "output_type": "stream",
          "text": [
            "Using cpu for computation\n"
          ]
        }
      ],
      "source": [
        "# Set the device (use GPU if available)\n",
        "\n",
        "device = torch.device(\"cuda\" if torch.cuda.is_available() else \"cpu\")\n",
        "print(f\"Using {device} for computation\")\n",
        "\n",
        "# Define transformations for the dataset\n",
        "\n",
        "transform = transforms.Compose([\n",
        "    transforms.Grayscale(),               # Convert to grayscale\n",
        "    transforms.Resize((28, 28)),           # Resize to 28x28\n",
        "    transforms.ToTensor(),                 # Convert to tensor\n",
        "    transforms.Normalize((0.5,), (0.5,))   # Normalize to [-1, 1]\n",
        "])\n"
      ]
    },
    {
      "cell_type": "code",
      "execution_count": 11,
      "metadata": {
        "id": "J5LJHYr48Rab"
      },
      "outputs": [],
      "source": [
        "# Write down batch generator to load data\n",
        "\n",
        "# Path to the dataset folders\n",
        "train_data_path = '/Users/hassanadnan/Desktop/PA2 2/CNN_lp_dataset/train'\n",
        "val_data_path = '/Users/hassanadnan/Desktop/PA2 2/CNN_lp_dataset/val'\n",
        "\n",
        "# Load the training and validation datasets\n",
        "train_dataset = ImageFolder(root=train_data_path, transform=transform)\n",
        "val_dataset = ImageFolder(root=val_data_path, transform=transform)\n",
        "\n",
        "# Create DataLoaders for training and validation sets\n",
        "train_loader = DataLoader(dataset=train_dataset, batch_size=32, shuffle=True)\n",
        "val_loader = DataLoader(dataset=val_dataset, batch_size=32, shuffle=False)\n"
      ]
    },
    {
      "cell_type": "code",
      "execution_count": 12,
      "metadata": {
        "id": "Fw-a8Ee98iFl"
      },
      "outputs": [
        {
          "name": "stdout",
          "output_type": "stream",
          "text": [
            "CNNNetSmall(\n",
            "  (conv1): Conv2d(1, 16, kernel_size=(3, 3), stride=(1, 1), padding=(1, 1))\n",
            "  (conv2): Conv2d(16, 32, kernel_size=(3, 3), stride=(1, 1), padding=(1, 1))\n",
            "  (pool): MaxPool2d(kernel_size=2, stride=2, padding=0, dilation=1, ceil_mode=False)\n",
            "  (fc1): Linear(in_features=1568, out_features=64, bias=True)\n",
            "  (fc2): Linear(in_features=64, out_features=36, bias=True)\n",
            ")\n"
          ]
        }
      ],
      "source": [
        "# Define the convolutional neural network model\n",
        "\n",
        "class CNNNetSmall(nn.Module):\n",
        "    def __init__(self):\n",
        "        super(CNNNetSmall, self).__init__()\n",
        "        # Convolutional layers with fewer filters\n",
        "        self.conv1 = nn.Conv2d(in_channels=1, out_channels=16, kernel_size=3, padding=1)\n",
        "        self.conv2 = nn.Conv2d(in_channels=16, out_channels=32, kernel_size=3, padding=1)\n",
        "        self.pool = nn.MaxPool2d(kernel_size=2, stride=2)\n",
        "        \n",
        "        # Fully connected layers with fewer neurons\n",
        "        self.fc1 = nn.Linear(32 * 7 * 7, 64)  # Output size from conv layers is 32 * 7 * 7\n",
        "        self.fc2 = nn.Linear(64, 36)          # 36 output classes (for 0-9 and A-Z)\n",
        "\n",
        "    def forward(self, x):\n",
        "        # Apply convolutional layers with ReLU and pooling\n",
        "        x = self.pool(F.relu(self.conv1(x)))\n",
        "        x = self.pool(F.relu(self.conv2(x)))\n",
        "        \n",
        "        # Flatten the output from the conv layers\n",
        "        x = x.view(-1, 32 * 7 * 7)\n",
        "        \n",
        "        # Fully connected layers with ReLU activation\n",
        "        x = F.relu(self.fc1(x))\n",
        "        x = self.fc2(x)\n",
        "        \n",
        "        # Output layer with log_softmax for classification\n",
        "        return F.log_softmax(x, dim=1)\n",
        "\n",
        "# Instantiate the model and move it to the device\n",
        "model = CNNNetSmall().to(device)\n",
        "print(model)\n"
      ]
    },
    {
      "cell_type": "code",
      "execution_count": 13,
      "metadata": {},
      "outputs": [
        {
          "name": "stdout",
          "output_type": "stream",
          "text": [
            "Trainable parameters: 107556\n"
          ]
        }
      ],
      "source": [
        "def count_parameters(model):\n",
        "    return sum(p.numel() for p in model.parameters() if p.requires_grad)\n",
        "\n",
        "# Print the number of trainable parameters\n",
        "print(f\"Trainable parameters: {count_parameters(model)}\")\n"
      ]
    },
    {
      "cell_type": "code",
      "execution_count": 14,
      "metadata": {
        "id": "p1oX5LiY8piY"
      },
      "outputs": [],
      "source": [
        "# Initialize the model, loss function, and optimizer\n",
        "\n",
        "# Initialize the model and move to the correct device\n",
        "model = CNNNetSmall().to(device)\n",
        "\n",
        "# Loss function\n",
        "criterion = nn.CrossEntropyLoss()\n",
        "\n",
        "# Optimizer (Adam with learning rate of 0.001)\n",
        "optimizer = optim.Adam(model.parameters(), lr=0.001)\n"
      ]
    },
    {
      "cell_type": "code",
      "execution_count": 15,
      "metadata": {
        "id": "dTb5olI_8tkH"
      },
      "outputs": [],
      "source": [
        "# Define the training function\n",
        "\n",
        "def train(model, device, train_loader, optimizer, epoch):\n",
        "    model.train()  # Set the model to training mode\n",
        "    for batch_idx, (data, target) in enumerate(train_loader):\n",
        "        # Move data and target to device\n",
        "        data, target = data.to(device), target.to(device)\n",
        "\n",
        "        # Zero the gradients\n",
        "        optimizer.zero_grad()\n",
        "\n",
        "        # Forward pass\n",
        "        output = model(data)\n",
        "\n",
        "        # Compute loss\n",
        "        loss = criterion(output, target)\n",
        "\n",
        "        # Backpropagation\n",
        "        loss.backward()\n",
        "\n",
        "        # Update weights\n",
        "        optimizer.step()\n",
        "\n",
        "        # Print progress every 100 batches\n",
        "        if batch_idx % 100 == 0:\n",
        "            print(f'Train Epoch: {epoch} [{batch_idx * len(data)}/{len(train_loader.dataset)}'\n",
        "                  f' ({100. * batch_idx / len(train_loader):.0f}%)]\\tLoss: {loss.item():.6f}')\n"
      ]
    },
    {
      "cell_type": "code",
      "execution_count": 16,
      "metadata": {
        "id": "3kkv3vYl8vGm"
      },
      "outputs": [],
      "source": [
        "# Define the testing function\n",
        "\n",
        "def test(model, device, test_loader):\n",
        "    model.eval()  # Set the model to evaluation mode\n",
        "    test_loss = 0\n",
        "    correct = 0\n",
        "    all_preds = []\n",
        "    all_targets = []\n",
        "\n",
        "    with torch.no_grad():  # Disable gradient calculation\n",
        "        for data, target in test_loader:\n",
        "            # Move data and target to device\n",
        "            data, target = data.to(device), target.to(device)\n",
        "\n",
        "            # Forward pass\n",
        "            output = model(data)\n",
        "\n",
        "            # Compute loss\n",
        "            test_loss += criterion(output, target).item()\n",
        "\n",
        "            # Get predicted classes\n",
        "            pred = output.argmax(dim=1, keepdim=True)\n",
        "            correct += pred.eq(target.view_as(pred)).sum().item()\n",
        "\n",
        "            # Collect predictions and targets for confusion matrix\n",
        "            all_preds.extend(pred.cpu().numpy())\n",
        "            all_targets.extend(target.cpu().numpy())\n",
        "\n",
        "    # Average loss for the test set\n",
        "    test_loss /= len(test_loader.dataset)\n",
        "    accuracy = 100. * correct / len(test_loader.dataset)\n",
        "\n",
        "    print(f'\\nTest set: Average loss: {test_loss:.4f}, Accuracy: {correct}/{len(test_loader.dataset)}'\n",
        "          f' ({accuracy:.0f}%)\\n')\n",
        "\n",
        "    return all_preds, all_targets\n"
      ]
    },
    {
      "cell_type": "code",
      "execution_count": 17,
      "metadata": {
        "id": "3bCiOv7M8ynV"
      },
      "outputs": [
        {
          "name": "stdout",
          "output_type": "stream",
          "text": [
            "Train Epoch: 1 [0/1903 (0%)]\tLoss: 3.595784\n",
            "\n",
            "Test set: Average loss: 0.0204, Accuracy: 368/458 (80%)\n",
            "\n",
            "Train Epoch: 2 [0/1903 (0%)]\tLoss: 0.552175\n",
            "\n",
            "Test set: Average loss: 0.0056, Accuracy: 432/458 (94%)\n",
            "\n",
            "Train Epoch: 3 [0/1903 (0%)]\tLoss: 0.138844\n",
            "\n",
            "Test set: Average loss: 0.0037, Accuracy: 443/458 (97%)\n",
            "\n",
            "Train Epoch: 4 [0/1903 (0%)]\tLoss: 0.035222\n",
            "\n",
            "Test set: Average loss: 0.0039, Accuracy: 444/458 (97%)\n",
            "\n",
            "Train Epoch: 5 [0/1903 (0%)]\tLoss: 0.225776\n",
            "\n",
            "Test set: Average loss: 0.0019, Accuracy: 449/458 (98%)\n",
            "\n"
          ]
        }
      ],
      "source": [
        "# Training loop\n",
        "\n",
        "n_epochs = 5  # Number of epochs\n",
        "for epoch in range(1, n_epochs + 1):\n",
        "    train(model, device, train_loader, optimizer, epoch)  # Train model for one epoch\n",
        "    all_preds, all_targets = test(model, device, val_loader)  # Evaluate the model after each epoch\n"
      ]
    },
    {
      "cell_type": "code",
      "execution_count": 18,
      "metadata": {
        "id": "FM8ON7NP97h1"
      },
      "outputs": [
        {
          "data": {
            "image/png": "[encoded data removed]",
            "text/plain": [
              "<Figure size 1000x800 with 2 Axes>"
            ]
          },
          "metadata": {},
          "output_type": "display_data"
        },
        {
          "name": "stdout",
          "output_type": "stream",
          "text": [
            "Precision: 98.14%\n",
            "Recall: 98.03%\n",
            "F1 Score: 98.04%\n"
          ]
        }
      ],
      "source": [
        "# show confusion matrix, calculate precision (P%), Recall (R%), and F1 Score (f1%)\n",
        "from sklearn.metrics import confusion_matrix, precision_score, recall_score, f1_score\n",
        "import matplotlib.pyplot as plt\n",
        "import seaborn as sns\n",
        "\n",
        "# Calculate confusion matrix\n",
        "conf_matrix = confusion_matrix(all_targets, all_preds)\n",
        "\n",
        "# Plot confusion matrix\n",
        "plt.figure(figsize=(10, 8))\n",
        "sns.heatmap(conf_matrix, annot=True, fmt='d', cmap='Blues')\n",
        "plt.xlabel('Predicted Labels')\n",
        "plt.ylabel('True Labels')\n",
        "plt.title('Confusion Matrix')\n",
        "plt.show()\n",
        "\n",
        "# Calculate precision, recall, and F1 score\n",
        "precision = precision_score(all_targets, all_preds, average='weighted') * 100\n",
        "recall = recall_score(all_targets, all_preds, average='weighted') * 100\n",
        "f1 = f1_score(all_targets, all_preds, average='weighted') * 100\n",
        "\n",
        "print(f'Precision: {precision:.2f}%')\n",
        "print(f'Recall: {recall:.2f}%')\n",
        "print(f'F1 Score: {f1:.2f}%')\n"
      ]
    },
    {
      "cell_type": "code",
      "execution_count": 19,
      "metadata": {},
      "outputs": [
        {
          "name": "stdout",
          "output_type": "stream",
          "text": [
            "Model saved successfully!\n"
          ]
        }
      ],
      "source": [
        "# Assume 'model' is your trained CNN model\n",
        "import torch\n",
        "\n",
        "# Save the model's state dictionary\n",
        "torch.save(model.state_dict(), 'cnn_model_part1.pth')\n",
        "print(\"Model saved successfully!\")\n"
      ]
    }
  ],
  "metadata": {
    "colab": {
      "provenance": []
    },
    "kernelspec": {
      "display_name": "Python 3",
      "name": "python3"
    },
    "language_info": {
      "codemirror_mode": {
        "name": "ipython",
        "version": 3
      },
      "file_extension": ".py",
      "mimetype": "text/x-python",
      "name": "python",
      "nbconvert_exporter": "python",
      "pygments_lexer": "ipython3",
      "version": "3.11.1"
    }
  },
  "nbformat": 4,
  "nbformat_minor": 0
}
